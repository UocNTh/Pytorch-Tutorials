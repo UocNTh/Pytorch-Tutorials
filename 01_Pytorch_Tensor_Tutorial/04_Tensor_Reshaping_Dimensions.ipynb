{
 "cells": [
  {
   "cell_type": "markdown",
   "metadata": {},
   "source": [
    "# Tensor Reshaping Dimensions "
   ]
  },
  {
   "cell_type": "markdown",
   "metadata": {},
   "source": [
    "**view()**: Returns a new tensor with the same data as the self tensor but of a different shape."
   ]
  },
  {
   "cell_type": "code",
   "execution_count": 1,
   "metadata": {},
   "outputs": [
    {
     "name": "stdout",
     "output_type": "stream",
     "text": [
      "tensor([0.6790, 0.9522, 0.3843, 0.8534, 0.6194, 0.9979, 0.8282, 0.4112, 0.2705])\n",
      "tensor([[0.6790, 0.9522, 0.3843],\n",
      "        [0.8534, 0.6194, 0.9979],\n",
      "        [0.8282, 0.4112, 0.2705]])\n"
     ]
    }
   ],
   "source": [
    "import torch\n",
    "\n",
    "x = torch.rand(9) \n",
    "print(x) \n",
    "\n",
    "x_3x3 = x.view(3,3) \n",
    "\n",
    "print(x_3x3)\n",
    "\n",
    "x_3x3 = x.reshape(3,3)"
   ]
  },
  {
   "cell_type": "code",
   "execution_count": 2,
   "metadata": {},
   "outputs": [
    {
     "data": {
      "text/plain": [
       "tensor([[0.6790, 0.8534, 0.8282],\n",
       "        [0.9522, 0.6194, 0.4112],\n",
       "        [0.3843, 0.9979, 0.2705]])"
      ]
     },
     "execution_count": 2,
     "metadata": {},
     "output_type": "execute_result"
    }
   ],
   "source": [
    "y = x_3x3.t()  # transpose \n",
    "y"
   ]
  },
  {
   "cell_type": "code",
   "execution_count": 3,
   "metadata": {},
   "outputs": [
    {
     "data": {
      "text/plain": [
       "tensor([0.6790, 0.8534, 0.8282, 0.9522, 0.6194, 0.4112, 0.3843, 0.9979, 0.2705])"
      ]
     },
     "execution_count": 3,
     "metadata": {},
     "output_type": "execute_result"
    }
   ],
   "source": [
    "y.contiguous().view(9) "
   ]
  },
  {
   "cell_type": "markdown",
   "metadata": {},
   "source": [
    "#### cat()"
   ]
  },
  {
   "cell_type": "code",
   "execution_count": 4,
   "metadata": {},
   "outputs": [
    {
     "name": "stdout",
     "output_type": "stream",
     "text": [
      "torch.Size([4, 5])\n",
      "torch.Size([2, 10])\n"
     ]
    }
   ],
   "source": [
    "x = torch.rand((2,5))\n",
    "y = torch.rand((2,5))\n",
    "\n",
    "z1 = torch.cat((x,y), dim = 0 )\n",
    "print(z1.shape)\n",
    "\n",
    "z2 = torch.cat((x,y), dim = 1)\n",
    "print(z2.shape)\n"
   ]
  },
  {
   "cell_type": "code",
   "execution_count": 5,
   "metadata": {},
   "outputs": [
    {
     "data": {
      "text/plain": [
       "tensor([0.1343, 0.9081, 0.1240, 0.3300, 0.5535, 0.5440, 0.4547, 0.7685, 0.2145,\n",
       "        0.1363])"
      ]
     },
     "execution_count": 5,
     "metadata": {},
     "output_type": "execute_result"
    }
   ],
   "source": [
    "z = x.view(-1)\n",
    "z"
   ]
  },
  {
   "cell_type": "code",
   "execution_count": 18,
   "metadata": {},
   "outputs": [
    {
     "data": {
      "text/plain": [
       "2"
      ]
     },
     "execution_count": 18,
     "metadata": {},
     "output_type": "execute_result"
    }
   ],
   "source": [
    "tensor = torch.rand(2,10,10)\n",
    "tensor.size(0)"
   ]
  },
  {
   "cell_type": "code",
   "execution_count": 6,
   "metadata": {},
   "outputs": [
    {
     "data": {
      "text/plain": [
       "torch.Size([640])"
      ]
     },
     "execution_count": 6,
     "metadata": {},
     "output_type": "execute_result"
    }
   ],
   "source": [
    "batch = 64 \n",
    "\n",
    "x = torch.rand((batch,2,5))\n",
    "x.view(-1).shape"
   ]
  },
  {
   "cell_type": "markdown",
   "metadata": {},
   "source": [
    "#### torch.permute\n",
    "\n",
    "\n",
    "Returns a view of the original tensor input with its dimensions permuted."
   ]
  },
  {
   "cell_type": "code",
   "execution_count": 7,
   "metadata": {},
   "outputs": [
    {
     "name": "stdout",
     "output_type": "stream",
     "text": [
      "tensor([[[ 0.3821,  1.6129,  0.3420,  0.8177,  1.1629],\n",
      "         [-0.8030,  0.5712,  1.5485,  1.7602,  0.0241],\n",
      "         [-0.1950, -0.6898,  0.1702,  2.2470, -0.2538]],\n",
      "\n",
      "        [[ 0.3064, -0.7119, -0.1609,  0.0709, -1.4795],\n",
      "         [-0.6361, -0.0513, -0.6911, -1.5155, -1.3226],\n",
      "         [ 0.5488,  0.5819,  0.1603, -1.6707, -0.4839]]])\n",
      "torch.Size([2, 3, 5])\n",
      "tensor([[[ 0.3821, -0.8030, -0.1950],\n",
      "         [ 0.3064, -0.6361,  0.5488]],\n",
      "\n",
      "        [[ 1.6129,  0.5712, -0.6898],\n",
      "         [-0.7119, -0.0513,  0.5819]],\n",
      "\n",
      "        [[ 0.3420,  1.5485,  0.1702],\n",
      "         [-0.1609, -0.6911,  0.1603]],\n",
      "\n",
      "        [[ 0.8177,  1.7602,  2.2470],\n",
      "         [ 0.0709, -1.5155, -1.6707]],\n",
      "\n",
      "        [[ 1.1629,  0.0241, -0.2538],\n",
      "         [-1.4795, -1.3226, -0.4839]]])\n",
      "torch.Size([5, 2, 3])\n"
     ]
    }
   ],
   "source": [
    "x = torch.randn(2, 3, 5)\n",
    "print(x)\n",
    "print(x.shape) \n",
    "\n",
    "y = torch.permute(x, (2, 0, 1))\n",
    "print(y)\n",
    "print(y.shape) "
   ]
  },
  {
   "cell_type": "markdown",
   "metadata": {},
   "source": [
    "#### unsqueeze"
   ]
  },
  {
   "cell_type": "code",
   "execution_count": 8,
   "metadata": {},
   "outputs": [
    {
     "name": "stdout",
     "output_type": "stream",
     "text": [
      "tensor([0, 1, 2, 3, 4, 5, 6, 7, 8, 9])\n",
      "tensor([[0, 1, 2, 3, 4, 5, 6, 7, 8, 9]])\n",
      "tensor([[0],\n",
      "        [1],\n",
      "        [2],\n",
      "        [3],\n",
      "        [4],\n",
      "        [5],\n",
      "        [6],\n",
      "        [7],\n",
      "        [8],\n",
      "        [9]])\n"
     ]
    }
   ],
   "source": [
    "x = torch.arange(10)\n",
    "print(x) \n",
    "print(x.unsqueeze(0)) \n",
    "print(x.unsqueeze(1))"
   ]
  },
  {
   "cell_type": "code",
   "execution_count": 9,
   "metadata": {},
   "outputs": [
    {
     "name": "stdout",
     "output_type": "stream",
     "text": [
      "torch.Size([10])\n"
     ]
    }
   ],
   "source": [
    "x = torch.arange(10).unsqueeze(0).unsqueeze(1)\n",
    "print(z.shape)"
   ]
  },
  {
   "cell_type": "markdown",
   "metadata": {},
   "source": [
    "#### squeeze"
   ]
  },
  {
   "cell_type": "code",
   "execution_count": 10,
   "metadata": {},
   "outputs": [
    {
     "name": "stdout",
     "output_type": "stream",
     "text": [
      "tensor([[[0, 1, 2, 3, 4, 5, 6, 7, 8, 9]]])\n"
     ]
    },
    {
     "data": {
      "text/plain": [
       "tensor([[0, 1, 2, 3, 4, 5, 6, 7, 8, 9]])"
      ]
     },
     "execution_count": 10,
     "metadata": {},
     "output_type": "execute_result"
    }
   ],
   "source": [
    "print(x)\n",
    "z = x.squeeze(1) \n",
    "z"
   ]
  }
 ],
 "metadata": {
  "kernelspec": {
   "display_name": "env",
   "language": "python",
   "name": "python3"
  },
  "language_info": {
   "codemirror_mode": {
    "name": "ipython",
    "version": 3
   },
   "file_extension": ".py",
   "mimetype": "text/x-python",
   "name": "python",
   "nbconvert_exporter": "python",
   "pygments_lexer": "ipython3",
   "version": "3.10.12"
  }
 },
 "nbformat": 4,
 "nbformat_minor": 2
}
