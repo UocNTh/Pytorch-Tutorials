{
 "cells": [
  {
   "cell_type": "markdown",
   "metadata": {},
   "source": [
    "### How to Neural Network works?\n",
    "\n",
    "![m](https://images.viblo.asia/24ef0636-8842-4733-8a16-0d7ca7dca748.png) "
   ]
  },
  {
   "cell_type": "markdown",
   "metadata": {},
   "source": [
    "A neural network takes the output from the previous layers, multiplies it by the weights, sums it up, adds a bias, and then applies an activation function to produce the output for the current layer. This output then becomes the input for the next layer.\n",
    "\n",
    "![m](https://images.viblo.asia/056eb158-3763-4d1d-aa13-e0404948ff93.gif) "
   ]
  },
  {
   "cell_type": "code",
   "execution_count": 1,
   "metadata": {},
   "outputs": [],
   "source": [
    "import torch\n",
    "import torch.nn as nn\n",
    "import torch.optim as optim\n",
    "import torch.nn.functional as F \n",
    "from torch.utils.data import DataLoader\n",
    "import torchvision.datasets as datasets\n",
    "import torchvision.transforms as transforms "
   ]
  },
  {
   "cell_type": "code",
   "execution_count": 2,
   "metadata": {},
   "outputs": [],
   "source": [
    "# Create Fully Connected Network \n",
    "\n",
    "class NeuralNetwork(nn.Module) : \n",
    "    def __init__(self, input_size, num_classes) : \n",
    "        super(NeuralNetwork, self).__init__() \n",
    "        self.fc1 = nn.Linear(input_size, 50) \n",
    "        self.fc2 = nn.Linear(50, num_classes) \n",
    "\n",
    "    def forward(self, x) : \n",
    "        x = F.relu(self.fc1(x)) \n",
    "        x = self.fc2(x) \n",
    "        return x "
   ]
  },
  {
   "cell_type": "code",
   "execution_count": 3,
   "metadata": {},
   "outputs": [
    {
     "data": {
      "text/plain": [
       "device(type='cpu')"
      ]
     },
     "execution_count": 3,
     "metadata": {},
     "output_type": "execute_result"
    }
   ],
   "source": [
    "device = torch.device('cuda' if torch.cuda.is_available() else 'cpu') \n",
    "device"
   ]
  },
  {
   "cell_type": "code",
   "execution_count": 4,
   "metadata": {},
   "outputs": [],
   "source": [
    "input_size = 784 \n",
    "num_classes = 10 \n",
    "learning_rate = 0.001 \n",
    "batch_size = 64\n",
    "num_epochs = 1 "
   ]
  },
  {
   "cell_type": "code",
   "execution_count": 5,
   "metadata": {},
   "outputs": [],
   "source": [
    "train_data = datasets.MNIST('dataset/', train = True, transform=transforms.ToTensor(), download=True)\n",
    "train_loader = DataLoader(dataset=train_data, batch_size=batch_size, shuffle=True)\n",
    "test_data = datasets.MNIST('dataset/', train = False, transform=transforms.ToTensor(), download=True)\n",
    "test_loader = DataLoader(dataset=train_data, batch_size=batch_size, shuffle=True)"
   ]
  },
  {
   "cell_type": "code",
   "execution_count": 6,
   "metadata": {},
   "outputs": [],
   "source": [
    "model = NeuralNetwork(input_size=input_size, num_classes=num_classes).to(device=device) "
   ]
  },
  {
   "cell_type": "code",
   "execution_count": 7,
   "metadata": {},
   "outputs": [],
   "source": [
    "criterion = nn.CrossEntropyLoss()\n",
    "optimizer = optim.Adam(model.parameters(), lr=learning_rate)"
   ]
  },
  {
   "cell_type": "code",
   "execution_count": 8,
   "metadata": {},
   "outputs": [],
   "source": [
    "for epoch in range(num_epochs) : \n",
    "    for batch_idx, (data, targets) in enumerate(train_loader) : \n",
    "        data = data.to(device = device) \n",
    "        targets = targets.to(device = device)\n",
    "\n",
    "        data = data.reshape(data.shape[0], -1)\n",
    "\n",
    "        # Forward\n",
    "        scores = model(data) \n",
    "        loss = criterion(scores,targets) \n",
    "\n",
    "        #Backward \n",
    "        optimizer.zero_grad() \n",
    "        loss.backward()\n",
    "\n",
    "        # Gradient Descent or Adam Step\n",
    "        optimizer.step() "
   ]
  },
  {
   "cell_type": "code",
   "execution_count": 9,
   "metadata": {},
   "outputs": [],
   "source": [
    "def check_accurancy(loader, model) : \n",
    "\n",
    "    if loader.dataset.train: \n",
    "        print('Checking accurancy on training data')\n",
    "\n",
    "    else : \n",
    "        print('Checking accurancy on test data') \n",
    "        \n",
    "    num_correct = 0 \n",
    "    num_samples = 0 \n",
    "    model.eval() \n",
    "\n",
    "    with torch.no_grad() : \n",
    "        for x, y in loader : \n",
    "            x = x.to(device= device)\n",
    "            y = y.to(device= device)\n",
    "\n",
    "            x = x.reshape(x.shape[0], - 1 ) \n",
    "\n",
    "            scores = model(x) \n",
    "            _, predictions = scores.max(1)\n",
    "            num_correct += (predictions == y).sum()\n",
    "            num_samples += predictions.size(0)\n",
    "\n",
    "        print(f'Got {num_correct}/{num_samples} with accuracy {float(num_correct)/float(num_samples)*100:.2f}%')\n",
    "\n",
    "    model.train() \n"
   ]
  },
  {
   "cell_type": "code",
   "execution_count": 10,
   "metadata": {},
   "outputs": [
    {
     "name": "stdout",
     "output_type": "stream",
     "text": [
      "Checking accurancy on training data\n",
      "Got 55429/60000 with accuracy 92.38%\n"
     ]
    }
   ],
   "source": [
    "check_accurancy(train_loader, model)"
   ]
  },
  {
   "cell_type": "code",
   "execution_count": 11,
   "metadata": {},
   "outputs": [
    {
     "name": "stdout",
     "output_type": "stream",
     "text": [
      "Checking accurancy on training data\n",
      "Got 55429/60000 with accuracy 92.38%\n"
     ]
    }
   ],
   "source": [
    "check_accurancy(test_loader, model)"
   ]
  }
 ],
 "metadata": {
  "kernelspec": {
   "display_name": "env",
   "language": "python",
   "name": "python3"
  },
  "language_info": {
   "codemirror_mode": {
    "name": "ipython",
    "version": 3
   },
   "file_extension": ".py",
   "mimetype": "text/x-python",
   "name": "python",
   "nbconvert_exporter": "python",
   "pygments_lexer": "ipython3",
   "version": "3.10.12"
  }
 },
 "nbformat": 4,
 "nbformat_minor": 2
}
