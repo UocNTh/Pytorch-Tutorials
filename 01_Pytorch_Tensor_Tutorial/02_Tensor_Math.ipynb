{
 "cells": [
  {
   "cell_type": "markdown",
   "metadata": {},
   "source": [
    "# Tensor Math & Comparison Operations"
   ]
  },
  {
   "cell_type": "code",
   "execution_count": 1,
   "metadata": {},
   "outputs": [],
   "source": [
    "import torch \n",
    "\n",
    "x = torch.tensor([1,2,3,4,5])\n",
    "y = torch.tensor([6,7,8,9,10]) "
   ]
  },
  {
   "cell_type": "markdown",
   "metadata": {},
   "source": [
    "## Tensor Math"
   ]
  },
  {
   "cell_type": "markdown",
   "metadata": {},
   "source": [
    "### Addition"
   ]
  },
  {
   "cell_type": "code",
   "execution_count": 2,
   "metadata": {},
   "outputs": [
    {
     "name": "stdout",
     "output_type": "stream",
     "text": [
      "tensor([ 7,  9, 11, 13, 15])\n",
      "tensor([ 7,  9, 11, 13, 15])\n",
      "tensor([2., 3., 4., 5., 6.])\n",
      "tensor([ 3.,  5.,  7.,  9., 11.])\n"
     ]
    }
   ],
   "source": [
    "z1 = torch.add(x,y)\n",
    "print(z1)\n",
    "\n",
    "z2 = x + y\n",
    "print(z2)\n",
    "\n",
    "t = torch.ones(5)\n",
    "t.add_(x)\n",
    "print(t) \n",
    "\n",
    "t+=x\n",
    "print(t) "
   ]
  },
  {
   "cell_type": "markdown",
   "metadata": {},
   "source": [
    "### Subtraction"
   ]
  },
  {
   "cell_type": "code",
   "execution_count": 3,
   "metadata": {},
   "outputs": [
    {
     "name": "stdout",
     "output_type": "stream",
     "text": [
      "tensor([-5, -5, -5, -5, -5])\n",
      "tensor([-5, -5, -5, -5, -5])\n"
     ]
    }
   ],
   "source": [
    "z1 = torch.subtract(x,y)\n",
    "print(z1)\n",
    "\n",
    "z2 = x - y \n",
    "print(z2)"
   ]
  },
  {
   "cell_type": "markdown",
   "metadata": {},
   "source": [
    "### Division\n"
   ]
  },
  {
   "cell_type": "code",
   "execution_count": 4,
   "metadata": {},
   "outputs": [
    {
     "name": "stdout",
     "output_type": "stream",
     "text": [
      "tensor([0.1667, 0.2857, 0.3750, 0.4444, 0.5000])\n",
      "tensor([0.1667, 0.2857, 0.3750, 0.4444, 0.5000])\n"
     ]
    }
   ],
   "source": [
    "z1 = torch.true_divide(x,y) \n",
    "print(z1)\n",
    "\n",
    "z2 = x / y \n",
    "print(z2)"
   ]
  },
  {
   "cell_type": "markdown",
   "metadata": {},
   "source": [
    "### Exponentiation"
   ]
  },
  {
   "cell_type": "code",
   "execution_count": 5,
   "metadata": {},
   "outputs": [
    {
     "name": "stdout",
     "output_type": "stream",
     "text": [
      "tensor([ 1,  4,  9, 16, 25])\n",
      "tensor([ 1,  4,  9, 16, 25])\n"
     ]
    }
   ],
   "source": [
    "z1 = x.pow(2) \n",
    "print(z1)\n",
    "\n",
    "z2 = x**2 \n",
    "print(z2)"
   ]
  },
  {
   "cell_type": "markdown",
   "metadata": {},
   "source": [
    "### Simple Comparison"
   ]
  },
  {
   "cell_type": "code",
   "execution_count": 6,
   "metadata": {},
   "outputs": [
    {
     "name": "stdout",
     "output_type": "stream",
     "text": [
      "tensor([[ 0.2337, -0.6817, -0.0712,  1.3727, -0.4706],\n",
      "        [ 0.1839,  1.5235,  1.4722,  0.2069, -1.4236],\n",
      "        [-0.2729, -0.9526, -1.6232,  0.2066, -0.2469]])\n"
     ]
    }
   ],
   "source": [
    "x = torch.empty((3,5)).normal_(mean=0, std=1)\n",
    "print(x)"
   ]
  },
  {
   "cell_type": "code",
   "execution_count": 7,
   "metadata": {},
   "outputs": [
    {
     "name": "stdout",
     "output_type": "stream",
     "text": [
      "tensor([[ True, False, False,  True, False],\n",
      "        [ True,  True,  True,  True, False],\n",
      "        [False, False, False,  True, False]])\n"
     ]
    }
   ],
   "source": [
    "z = x > 0 \n",
    "print(z)"
   ]
  },
  {
   "cell_type": "code",
   "execution_count": 8,
   "metadata": {},
   "outputs": [
    {
     "name": "stdout",
     "output_type": "stream",
     "text": [
      "tensor([[False,  True,  True, False,  True],\n",
      "        [False, False, False, False,  True],\n",
      "        [ True,  True,  True, False,  True]])\n"
     ]
    }
   ],
   "source": [
    "z = x < 0 \n",
    "print(z)"
   ]
  },
  {
   "cell_type": "markdown",
   "metadata": {},
   "source": [
    "### Matrix Mutiplication"
   ]
  },
  {
   "cell_type": "code",
   "execution_count": 9,
   "metadata": {},
   "outputs": [
    {
     "name": "stdout",
     "output_type": "stream",
     "text": [
      "tensor([[1.4102, 1.1402, 1.0952, 0.6300],\n",
      "        [2.0225, 1.1468, 1.2621, 1.2951],\n",
      "        [1.4217, 1.1220, 1.1086, 0.7739]])\n",
      "tensor([[1.4102, 1.1402, 1.0952, 0.6300],\n",
      "        [2.0225, 1.1468, 1.2621, 1.2951],\n",
      "        [1.4217, 1.1220, 1.1086, 0.7739]])\n"
     ]
    }
   ],
   "source": [
    "x = torch.rand((3,5))\n",
    "y = torch.rand((5,4))\n",
    "\n",
    "z1 = torch.mm(x,y)\n",
    "print(z1)\n",
    "\n",
    "z2 = x.mm(y)\n",
    "print(z2)"
   ]
  },
  {
   "cell_type": "markdown",
   "metadata": {},
   "source": [
    "### Matrix Exponentiation"
   ]
  },
  {
   "cell_type": "code",
   "execution_count": 10,
   "metadata": {},
   "outputs": [
    {
     "name": "stdout",
     "output_type": "stream",
     "text": [
      "x : tensor([[0.1053, 0.8678],\n",
      "        [0.7400, 0.3304]])\n",
      "tensor([[0.3485, 0.6918],\n",
      "        [0.5900, 0.5280]])\n",
      "tensor([[0.3485, 0.6918],\n",
      "        [0.5900, 0.5280]])\n"
     ]
    }
   ],
   "source": [
    "x = torch.rand(2,2)\n",
    "print(f'x : {x}')\n",
    "z1 = torch.matrix_power(x,3) \n",
    "print(z1)\n",
    "\n",
    "z2 = x.matrix_power(3) \n",
    "print(z2)"
   ]
  },
  {
   "cell_type": "markdown",
   "metadata": {},
   "source": [
    "### Dot Product"
   ]
  },
  {
   "cell_type": "code",
   "execution_count": 11,
   "metadata": {},
   "outputs": [
    {
     "name": "stdout",
     "output_type": "stream",
     "text": [
      "tensor([[False,  True,  True, False,  True],\n",
      "        [False, False, False, False,  True],\n",
      "        [ True,  True,  True, False,  True]])\n",
      "tensor(46)\n"
     ]
    }
   ],
   "source": [
    "x = torch.tensor([1,2,3])\n",
    "y = torch.tensor([9,8,7])\n",
    "\n",
    "z1 = x*y \n",
    "print(z)\n",
    "\n",
    "z2 = torch.dot(x,y) \n",
    "print(z2)"
   ]
  },
  {
   "cell_type": "markdown",
   "metadata": {},
   "source": [
    "### Batch Matrix Multiplication"
   ]
  },
  {
   "cell_type": "markdown",
   "metadata": {},
   "source": [
    "![imag](https://daehyun-bigbread.github.io/assets/img/20210710_163929.png)"
   ]
  },
  {
   "cell_type": "code",
   "execution_count": 12,
   "metadata": {},
   "outputs": [
    {
     "name": "stdout",
     "output_type": "stream",
     "text": [
      "tensor1:\n",
      "tensor([[[0.3728, 0.7677, 0.4233, 0.2599],\n",
      "         [0.4207, 0.0590, 0.0362, 0.1542]],\n",
      "\n",
      "        [[0.7629, 0.5782, 0.5238, 0.5190],\n",
      "         [0.6679, 0.4429, 0.6481, 0.8073]]])\n",
      "\n",
      "tensor2:\n",
      "tensor([[[0.5024, 0.2090, 0.5946],\n",
      "         [0.5139, 0.3778, 0.9885],\n",
      "         [0.7976, 0.4918, 0.6921],\n",
      "         [0.3705, 0.6124, 0.6036]],\n",
      "\n",
      "        [[0.7014, 0.4816, 0.0905],\n",
      "         [0.4460, 0.4545, 0.6032],\n",
      "         [0.5475, 0.1456, 0.4522],\n",
      "         [0.4501, 0.5105, 0.4077]]])\n"
     ]
    }
   ],
   "source": [
    "batch = 2\n",
    "n = 2\n",
    "h = 4 \n",
    "m = 3\n",
    "tensor1 = torch.rand((batch, n, h)) \n",
    "print(f'tensor1:\\n{tensor1}\\n')\n",
    "\n",
    "tensor2 = torch.rand((batch, h, m))\n",
    "print(f'tensor2:\\n{tensor2}') "
   ]
  },
  {
   "cell_type": "code",
   "execution_count": 13,
   "metadata": {},
   "outputs": [
    {
     "name": "stdout",
     "output_type": "stream",
     "text": [
      "output:\n",
      "tensor([[[1.0157, 0.7352, 1.4303],\n",
      "         [0.3277, 0.2224, 0.4266]],\n",
      "\n",
      "        [[1.3134, 0.9714, 0.8663],\n",
      "         [1.3843, 1.0294, 0.9498]]])\n"
     ]
    }
   ],
   "source": [
    "output_bmm = torch.bmm(tensor1, tensor2) # size: (batch, n, m) \n",
    "print(f'output:\\n{output_bmm}')"
   ]
  },
  {
   "cell_type": "markdown",
   "metadata": {},
   "source": [
    "### Broadcasting"
   ]
  },
  {
   "cell_type": "markdown",
   "metadata": {},
   "source": [
    "![image](https://blog.kakaocdn.net/dn/nkBPO/btrnJBEILeo/k3WxqqQsjtU8bQVjfvpSm0/img.png)"
   ]
  },
  {
   "cell_type": "code",
   "execution_count": 14,
   "metadata": {},
   "outputs": [
    {
     "name": "stdout",
     "output_type": "stream",
     "text": [
      "tensor([[2, 4, 4, 2, 3],\n",
      "        [3, 2, 3, 4, 3],\n",
      "        [0, 0, 1, 3, 0],\n",
      "        [1, 1, 4, 1, 3],\n",
      "        [3, 2, 4, 1, 0]])\n",
      "tensor([[1, 2, 4, 2, 0]])\n",
      "tensor([[3, 6, 8, 4, 3],\n",
      "        [4, 4, 7, 6, 3],\n",
      "        [1, 2, 5, 5, 0],\n",
      "        [2, 3, 8, 3, 3],\n",
      "        [4, 4, 8, 3, 0]])\n"
     ]
    }
   ],
   "source": [
    "x = torch.randint(0, 5, size = (5,5))\n",
    "print(x)\n",
    "\n",
    "y = torch.randint(0,5, size = (1,5)) \n",
    "print(y)\n",
    "\n",
    "z = x+y \n",
    "print(z)\n",
    "\n"
   ]
  },
  {
   "cell_type": "markdown",
   "metadata": {},
   "source": [
    "### Other useful tensor operations "
   ]
  },
  {
   "cell_type": "markdown",
   "metadata": {},
   "source": [
    "#### torch.sum"
   ]
  },
  {
   "cell_type": "code",
   "execution_count": 15,
   "metadata": {},
   "outputs": [
    {
     "name": "stdout",
     "output_type": "stream",
     "text": [
      "tensor([[2, 4, 4, 2, 3],\n",
      "        [3, 2, 3, 4, 3],\n",
      "        [0, 0, 1, 3, 0],\n",
      "        [1, 1, 4, 1, 3],\n",
      "        [3, 2, 4, 1, 0]])\n",
      "tensor([ 9,  9, 16, 11,  9])\n"
     ]
    }
   ],
   "source": [
    "print(x)\n",
    "sum_x = torch.sum(x, dim = 0)\n",
    "\n",
    "print(sum_x)"
   ]
  },
  {
   "cell_type": "markdown",
   "metadata": {},
   "source": [
    "#### torch.max"
   ]
  },
  {
   "cell_type": "code",
   "execution_count": 16,
   "metadata": {},
   "outputs": [
    {
     "name": "stdout",
     "output_type": "stream",
     "text": [
      "Values: \ttensor([3, 4, 4, 4, 3])\n",
      "Indices: \ttensor([1, 0, 0, 1, 0])\n"
     ]
    }
   ],
   "source": [
    "values, indices = torch.max(x, dim = 0)\n",
    "print(f'Values: \\t{values}\\nIndices: \\t{indices}')"
   ]
  },
  {
   "cell_type": "markdown",
   "metadata": {},
   "source": [
    "#### torch.min"
   ]
  },
  {
   "cell_type": "code",
   "execution_count": 17,
   "metadata": {},
   "outputs": [
    {
     "name": "stdout",
     "output_type": "stream",
     "text": [
      "Values: \ttensor([2, 2, 0, 1, 0])\n",
      "Indices: \ttensor([0, 1, 0, 0, 4])\n"
     ]
    }
   ],
   "source": [
    "values, indices = torch.min(x, dim = 1)\n",
    "print(f'Values: \\t{values}\\nIndices: \\t{indices}')"
   ]
  },
  {
   "cell_type": "markdown",
   "metadata": {},
   "source": [
    "#### torch.abs"
   ]
  },
  {
   "cell_type": "code",
   "execution_count": 18,
   "metadata": {},
   "outputs": [
    {
     "name": "stdout",
     "output_type": "stream",
     "text": [
      "tensor([[-3, -2, -5, -5, -5],\n",
      "        [-4, -2, -4, -3, -3],\n",
      "        [-5, -5, -2, -2, -5],\n",
      "        [-2, -3, -3, -5, -5]])\n",
      "tensor([[3, 2, 5, 5, 5],\n",
      "        [4, 2, 4, 3, 3],\n",
      "        [5, 5, 2, 2, 5],\n",
      "        [2, 3, 3, 5, 5]])\n"
     ]
    }
   ],
   "source": [
    "n = torch.randint(-5, -1, size = (4,5))\n",
    "print(n) \n",
    "\n",
    "abs_n = torch.abs(n) \n",
    "print(abs_n) "
   ]
  },
  {
   "cell_type": "markdown",
   "metadata": {},
   "source": [
    "#### torch.argmax"
   ]
  },
  {
   "cell_type": "code",
   "execution_count": 19,
   "metadata": {},
   "outputs": [
    {
     "name": "stdout",
     "output_type": "stream",
     "text": [
      "tensor([[2, 4, 4, 2, 3],\n",
      "        [3, 2, 3, 4, 3],\n",
      "        [0, 0, 1, 3, 0],\n",
      "        [1, 1, 4, 1, 3],\n",
      "        [3, 2, 4, 1, 0]])\n",
      "Values: \ttensor([4, 4, 3, 4, 4])\n",
      "Indices: \ttensor([1, 3, 3, 2, 2])\n",
      "tensor([1, 3, 3, 2, 2])\n"
     ]
    }
   ],
   "source": [
    "values, indices = torch.max(x, dim = 1)\n",
    "\n",
    "print(x)\n",
    "\n",
    "print(f'Values: \\t{values}\\nIndices: \\t{indices}')\n",
    "\n",
    "indices = torch.argmax(x, dim = 1)\n",
    "print(indices)"
   ]
  },
  {
   "cell_type": "markdown",
   "metadata": {},
   "source": [
    "#### torch.argmin"
   ]
  },
  {
   "cell_type": "code",
   "execution_count": 20,
   "metadata": {},
   "outputs": [
    {
     "name": "stdout",
     "output_type": "stream",
     "text": [
      "tensor([[2, 4, 4, 2, 3],\n",
      "        [3, 2, 3, 4, 3],\n",
      "        [0, 0, 1, 3, 0],\n",
      "        [1, 1, 4, 1, 3],\n",
      "        [3, 2, 4, 1, 0]])\n",
      "Values: \ttensor([2, 2, 0, 1, 0])\n",
      "Indices: \ttensor([0, 1, 0, 0, 4])\n",
      "tensor([0, 1, 0, 0, 4])\n"
     ]
    }
   ],
   "source": [
    "values, indices = torch.min(x, dim = 1)\n",
    "\n",
    "print(x)\n",
    "\n",
    "print(f'Values: \\t{values}\\nIndices: \\t{indices}')\n",
    "\n",
    "indices = torch.argmin(x, dim = 1)\n",
    "print(indices)"
   ]
  },
  {
   "cell_type": "markdown",
   "metadata": {},
   "source": [
    "#### torch.mean"
   ]
  },
  {
   "cell_type": "code",
   "execution_count": 21,
   "metadata": {},
   "outputs": [
    {
     "name": "stdout",
     "output_type": "stream",
     "text": [
      "tensor([[2, 4, 4, 2, 3],\n",
      "        [3, 2, 3, 4, 3],\n",
      "        [0, 0, 1, 3, 0],\n",
      "        [1, 1, 4, 1, 3],\n",
      "        [3, 2, 4, 1, 0]])\n",
      "tensor([3.0000, 3.0000, 0.8000, 2.0000, 2.0000])\n",
      "tensor([1.8000, 1.8000, 3.2000, 2.2000, 1.8000])\n",
      "tensor(2.1600)\n"
     ]
    }
   ],
   "source": [
    "print(x) \n",
    "\n",
    "z1 = torch.mean(x.float(), dim = 1) \n",
    "print(z1)\n",
    "\n",
    "z2 = torch.mean(x.float(), dim = 0) \n",
    "print(z2)\n",
    "\n",
    "z = torch.mean(x.float())\n",
    "print(z)\n"
   ]
  },
  {
   "cell_type": "markdown",
   "metadata": {},
   "source": [
    "#### torch.eq\n"
   ]
  },
  {
   "cell_type": "code",
   "execution_count": 22,
   "metadata": {},
   "outputs": [
    {
     "name": "stdout",
     "output_type": "stream",
     "text": [
      "x:\n",
      "tensor([[2, 4, 4, 2, 3],\n",
      "        [3, 2, 3, 4, 3],\n",
      "        [0, 0, 1, 3, 0],\n",
      "        [1, 1, 4, 1, 3],\n",
      "        [3, 2, 4, 1, 0]])\n",
      "y:\n",
      "tensor([[1, 2, 4, 2, 0]])\n",
      "z:\n",
      "tensor([[False, False,  True,  True, False],\n",
      "        [False,  True, False, False, False],\n",
      "        [False, False, False, False,  True],\n",
      "        [ True, False,  True, False, False],\n",
      "        [False,  True,  True, False,  True]])\n"
     ]
    }
   ],
   "source": [
    "print(f'x:\\n{x}')\n",
    "\n",
    "print(f'y:\\n{y}')\n",
    "\n",
    "z = torch.eq(x,y) \n",
    "print(f'z:\\n{z}')"
   ]
  },
  {
   "cell_type": "markdown",
   "metadata": {},
   "source": [
    "#### torch.sort"
   ]
  },
  {
   "cell_type": "code",
   "execution_count": 23,
   "metadata": {},
   "outputs": [
    {
     "name": "stdout",
     "output_type": "stream",
     "text": [
      "tensor([[2, 4, 4, 2, 3],\n",
      "        [3, 2, 3, 4, 3],\n",
      "        [0, 0, 1, 3, 0],\n",
      "        [1, 1, 4, 1, 3],\n",
      "        [3, 2, 4, 1, 0]])\n",
      "torch.return_types.sort(\n",
      "values=tensor([[2, 2, 3, 4, 4],\n",
      "        [2, 3, 3, 3, 4],\n",
      "        [0, 0, 0, 1, 3],\n",
      "        [1, 1, 1, 3, 4],\n",
      "        [0, 1, 2, 3, 4]]),\n",
      "indices=tensor([[0, 3, 4, 1, 2],\n",
      "        [1, 0, 2, 4, 3],\n",
      "        [0, 1, 4, 2, 3],\n",
      "        [0, 1, 3, 4, 2],\n",
      "        [4, 3, 1, 0, 2]]))\n"
     ]
    }
   ],
   "source": [
    "print(x) \n",
    "\n",
    "z = torch.sort(x, dim = 1, descending= False )\n",
    "\n",
    "print(z)"
   ]
  },
  {
   "cell_type": "markdown",
   "metadata": {},
   "source": [
    "#### torch.clamp\n"
   ]
  },
  {
   "cell_type": "code",
   "execution_count": 24,
   "metadata": {},
   "outputs": [
    {
     "name": "stdout",
     "output_type": "stream",
     "text": [
      "tensor([[ -6, -20,   3, -18, -14],\n",
      "        [ 15,  14,  -8,  -1,  -4],\n",
      "        [  0,  -3, -10, -13,   0],\n",
      "        [ -1, -17,  15,  10,   7],\n",
      "        [-14, -16,  -8,  15,  14]])\n",
      "tensor([[ 0,  0,  3,  0,  0],\n",
      "        [10, 10,  0,  0,  0],\n",
      "        [ 0,  0,  0,  0,  0],\n",
      "        [ 0,  0, 10, 10,  7],\n",
      "        [ 0,  0,  0, 10, 10]])\n"
     ]
    }
   ],
   "source": [
    "tensor = torch.randint(-20, 20, (5,5))\n",
    "print(tensor)\n",
    "\n",
    "z = torch.clamp(tensor, min = 0 , max= 10)\n",
    "print(z)"
   ]
  },
  {
   "cell_type": "markdown",
   "metadata": {},
   "source": [
    "#### torch.any, torch.all"
   ]
  },
  {
   "cell_type": "code",
   "execution_count": 25,
   "metadata": {},
   "outputs": [
    {
     "name": "stdout",
     "output_type": "stream",
     "text": [
      "tensor([False, False,  True, False,  True])\n"
     ]
    }
   ],
   "source": [
    "tensor = torch.tensor([0,0,1,0,1])\n",
    "\n",
    "z = tensor.bool()\n",
    "\n",
    "print(z)"
   ]
  }
 ],
 "metadata": {
  "kernelspec": {
   "display_name": "env",
   "language": "python",
   "name": "python3"
  },
  "language_info": {
   "codemirror_mode": {
    "name": "ipython",
    "version": 3
   },
   "file_extension": ".py",
   "mimetype": "text/x-python",
   "name": "python",
   "nbconvert_exporter": "python",
   "pygments_lexer": "ipython3",
   "version": "3.10.12"
  }
 },
 "nbformat": 4,
 "nbformat_minor": 2
}
