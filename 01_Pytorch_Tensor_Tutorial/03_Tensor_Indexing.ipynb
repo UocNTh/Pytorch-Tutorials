{
 "cells": [
  {
   "cell_type": "markdown",
   "metadata": {},
   "source": [
    "# Tensor Indexing\n"
   ]
  },
  {
   "cell_type": "code",
   "execution_count": 1,
   "metadata": {},
   "outputs": [
    {
     "name": "stdout",
     "output_type": "stream",
     "text": [
      "tensor([[0.3640, 0.9714, 0.5341, 0.2975, 0.9719, 0.7664, 0.7090, 0.9671, 0.7837,\n",
      "         0.9968, 0.2605, 0.2647, 0.6565, 0.4012, 0.4407, 0.3523, 0.6592, 0.7083,\n",
      "         0.2393, 0.0362, 0.8398, 0.6352, 0.1299, 0.0459, 0.9769],\n",
      "        [0.5510, 0.9434, 0.6035, 0.0989, 0.3161, 0.0744, 0.9634, 0.2633, 0.9175,\n",
      "         0.1918, 0.3117, 0.7399, 0.4426, 0.1532, 0.7727, 0.9278, 0.8141, 0.7861,\n",
      "         0.3026, 0.2797, 0.4657, 0.1576, 0.9406, 0.0992, 0.5856],\n",
      "        [0.4885, 0.4096, 0.8937, 0.0742, 0.3109, 0.5160, 0.1180, 0.1161, 0.4458,\n",
      "         0.2787, 0.6093, 0.8043, 0.8742, 0.2788, 0.7195, 0.0012, 0.9033, 0.8535,\n",
      "         0.0180, 0.7715, 0.3043, 0.1207, 0.5039, 0.8900, 0.4638],\n",
      "        [0.3791, 0.5608, 0.8670, 0.9427, 0.6668, 0.7769, 0.8197, 0.8410, 0.7563,\n",
      "         0.3996, 0.5451, 0.5785, 0.7426, 0.6027, 0.7956, 0.1680, 0.2913, 0.8746,\n",
      "         0.2908, 0.5109, 0.7907, 0.4241, 0.7117, 0.3228, 0.5159],\n",
      "        [0.3549, 0.4031, 0.1186, 0.2015, 0.8282, 0.7621, 0.4407, 0.7564, 0.3597,\n",
      "         0.3702, 0.9907, 0.0637, 0.6702, 0.9156, 0.6689, 0.9067, 0.8383, 0.7752,\n",
      "         0.9396, 0.6268, 0.6055, 0.2399, 0.9222, 0.1531, 0.5735]])\n"
     ]
    }
   ],
   "source": [
    "import torch\n",
    "\n",
    "batch_size = 5 \n",
    "features = 25\n",
    "\n",
    "x = torch.rand((batch_size, features))\n",
    "print(x)"
   ]
  },
  {
   "cell_type": "code",
   "execution_count": 2,
   "metadata": {},
   "outputs": [
    {
     "name": "stdout",
     "output_type": "stream",
     "text": [
      "tensor([0.5510, 0.9434, 0.6035, 0.0989, 0.3161, 0.0744, 0.9634, 0.2633, 0.9175,\n",
      "        0.1918, 0.3117, 0.7399, 0.4426, 0.1532, 0.7727, 0.9278, 0.8141, 0.7861,\n",
      "        0.3026, 0.2797, 0.4657, 0.1576, 0.9406, 0.0992, 0.5856])\n",
      "torch.Size([25])\n"
     ]
    }
   ],
   "source": [
    "print(x[1,:])\n",
    "print(x[1,:].shape) "
   ]
  },
  {
   "cell_type": "code",
   "execution_count": 3,
   "metadata": {},
   "outputs": [
    {
     "name": "stdout",
     "output_type": "stream",
     "text": [
      "tensor([[0.4885, 0.4096, 0.8937, 0.0742, 0.3109, 0.5160, 0.1180, 0.1161, 0.4458,\n",
      "         0.2787],\n",
      "        [0.3791, 0.5608, 0.8670, 0.9427, 0.6668, 0.7769, 0.8197, 0.8410, 0.7563,\n",
      "         0.3996]])\n",
      "torch.Size([2, 10])\n"
     ]
    }
   ],
   "source": [
    "print(x[2:4,0:10])\n",
    "print(x[2:4,0:10].shape)"
   ]
  },
  {
   "cell_type": "code",
   "execution_count": 4,
   "metadata": {},
   "outputs": [
    {
     "name": "stdout",
     "output_type": "stream",
     "text": [
      "tensor([0.3161, 0.3109])\n"
     ]
    }
   ],
   "source": [
    "print(x[1:3,4])"
   ]
  },
  {
   "cell_type": "code",
   "execution_count": 5,
   "metadata": {},
   "outputs": [
    {
     "name": "stdout",
     "output_type": "stream",
     "text": [
      "tensor([10, 11, 12, 13, 14, 15, 16, 17, 18, 19])\n",
      "tensor([11, 13, 15])\n"
     ]
    }
   ],
   "source": [
    "y =torch.arange(start=10, end=20, step=1)\n",
    "print(y)\n",
    "\n",
    "indices = [1,3,5]\n",
    "print(y[indices])"
   ]
  },
  {
   "cell_type": "code",
   "execution_count": 6,
   "metadata": {},
   "outputs": [
    {
     "name": "stdout",
     "output_type": "stream",
     "text": [
      "tensor([[0.3709, 0.0356, 0.6932, 0.0465, 0.7628],\n",
      "        [0.3203, 0.4637, 0.3897, 0.5716, 0.8017],\n",
      "        [0.0269, 0.0962, 0.0632, 0.9161, 0.6288],\n",
      "        [0.5999, 0.6520, 0.2562, 0.1116, 0.9861],\n",
      "        [0.9958, 0.3612, 0.6936, 0.4858, 0.8609]])\n",
      "tensor([0.3203, 0.2562])\n"
     ]
    }
   ],
   "source": [
    "x = torch.rand((5,5)) \n",
    "print(x)\n",
    "\n",
    "rows = torch.tensor([1,3])\n",
    "cols = torch.tensor([0,2])\n",
    "\n",
    "print(x[rows, cols]) "
   ]
  },
  {
   "cell_type": "code",
   "execution_count": 7,
   "metadata": {},
   "outputs": [
    {
     "name": "stdout",
     "output_type": "stream",
     "text": [
      "tensor([0, 1, 2, 3, 4, 5, 6, 7, 8, 9])\n"
     ]
    },
    {
     "data": {
      "text/plain": [
       "tensor([0, 1, 9])"
      ]
     },
     "execution_count": 7,
     "metadata": {},
     "output_type": "execute_result"
    }
   ],
   "source": [
    "x = torch.arange(10) \n",
    "print(x)\n",
    "\n",
    "x[(x < 2) | ( x > 8)] "
   ]
  },
  {
   "cell_type": "code",
   "execution_count": 8,
   "metadata": {},
   "outputs": [
    {
     "data": {
      "text/plain": [
       "tensor([0, 3, 6, 9])"
      ]
     },
     "execution_count": 8,
     "metadata": {},
     "output_type": "execute_result"
    }
   ],
   "source": [
    "x[x.remainder(3) == 0] "
   ]
  },
  {
   "cell_type": "markdown",
   "metadata": {},
   "source": [
    "#### torch.where"
   ]
  },
  {
   "cell_type": "code",
   "execution_count": 9,
   "metadata": {},
   "outputs": [
    {
     "name": "stdout",
     "output_type": "stream",
     "text": [
      "tensor([ 0,  1,  2,  3,  4,  5, 60, 70, 80, 90])\n"
     ]
    }
   ],
   "source": [
    "x = torch.where(x<=5,x, x*10) \n",
    "print(x)"
   ]
  },
  {
   "cell_type": "markdown",
   "metadata": {},
   "source": [
    "#### unique()"
   ]
  },
  {
   "cell_type": "code",
   "execution_count": 10,
   "metadata": {},
   "outputs": [
    {
     "data": {
      "text/plain": [
       "tensor([0, 1, 2, 3, 4])"
      ]
     },
     "execution_count": 10,
     "metadata": {},
     "output_type": "execute_result"
    }
   ],
   "source": [
    "x = torch.tensor([0,0,1,1,1,2,2,3,4])\n",
    "\n",
    "y = x.unique() \n",
    "y"
   ]
  },
  {
   "cell_type": "markdown",
   "metadata": {},
   "source": [
    "#### ndimension() "
   ]
  },
  {
   "cell_type": "code",
   "execution_count": 11,
   "metadata": {},
   "outputs": [
    {
     "name": "stdout",
     "output_type": "stream",
     "text": [
      "1\n",
      "2\n",
      "3\n"
     ]
    }
   ],
   "source": [
    "x = torch.tensor([0,0,1,1,1,2,2,3,4])\n",
    "\n",
    "vector = torch.rand((4,5))\n",
    "\n",
    "tensor = torch.rand((5,5,5)) \n",
    "\n",
    "print(x.ndimension())\n",
    "print(vector.ndimension()) \n",
    "print(tensor.ndimension()) "
   ]
  },
  {
   "cell_type": "markdown",
   "metadata": {},
   "source": [
    "#### numel() \n",
    "\n",
    "Returns the total number of elements in the input tensor"
   ]
  },
  {
   "cell_type": "code",
   "execution_count": 12,
   "metadata": {},
   "outputs": [
    {
     "data": {
      "text/plain": [
       "9"
      ]
     },
     "execution_count": 12,
     "metadata": {},
     "output_type": "execute_result"
    }
   ],
   "source": [
    "x.numel() "
   ]
  },
  {
   "cell_type": "code",
   "execution_count": 13,
   "metadata": {},
   "outputs": [
    {
     "data": {
      "text/plain": [
       "20"
      ]
     },
     "execution_count": 13,
     "metadata": {},
     "output_type": "execute_result"
    }
   ],
   "source": [
    "vector.numel()"
   ]
  },
  {
   "cell_type": "code",
   "execution_count": 14,
   "metadata": {},
   "outputs": [
    {
     "data": {
      "text/plain": [
       "125"
      ]
     },
     "execution_count": 14,
     "metadata": {},
     "output_type": "execute_result"
    }
   ],
   "source": [
    "tensor.numel() "
   ]
  }
 ],
 "metadata": {
  "kernelspec": {
   "display_name": "env",
   "language": "python",
   "name": "python3"
  },
  "language_info": {
   "codemirror_mode": {
    "name": "ipython",
    "version": 3
   },
   "file_extension": ".py",
   "mimetype": "text/x-python",
   "name": "python",
   "nbconvert_exporter": "python",
   "pygments_lexer": "ipython3",
   "version": "3.10.12"
  }
 },
 "nbformat": 4,
 "nbformat_minor": 2
}
